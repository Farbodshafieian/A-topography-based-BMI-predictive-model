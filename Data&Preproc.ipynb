{
 "cells": [
  {
   "cell_type": "markdown",
   "id": "468e247e-1bc9-4c75-8831-997ee02808a6",
   "metadata": {},
   "source": [
    "A topography-based BMI predictive model"
   ]
  },
  {
   "cell_type": "markdown",
   "id": "090c9cb0-9494-4320-830b-dd2edb255990",
   "metadata": {},
   "source": [
    "1. Data:\n",
    "   HCP Naturalistic Viewing dataset\n",
    "   \n",
    "   Inclusion criteria:\n",
    "   Complete BMI measurements, naturalistic viewing fMRI data from at least one NV fMRI run.\n",
    "   \n",
    "   Exclusion criteria:\n",
    "   neurological disorders, any form of diabetes, psychiatric conditions, missing fMRI data, a history of seizures, premature birth, MR contraindication."
   ]
  },
  {
   "cell_type": "code",
   "execution_count": null,
   "id": "a03c1854-dd15-47ee-997e-8a0244d3e57c",
   "metadata": {},
   "outputs": [],
   "source": [
    "## Scanning Overview: HCP 7T Naturalistic Viewing (Movie) Data\n",
    "\n",
    "The Human Connectome Project (HCP) 7T dataset includes movie-watching fMRI (tfMRI) collected as part of four scanning sessions, each approximately 1.25 hours long. The naturalistic viewing (movie) data were acquired in **Session 1 and Session 4** of the 7T protocol.\n",
    "\n",
    "### Movie-watching fMRI Details\n",
    "\n",
    "- **Scanner**: Siemens MAGNETOM 7T\n",
    "- **Coil**: 32-channel head coil\n",
    "- **Sequence**: Gradient-echo EPI (same as for resting-state fMRI)\n",
    "- **TR**: 1000 ms\n",
    "- **TE**: 22.2 ms\n",
    "- **Flip Angle**: 45°\n",
    "- **Voxel Size**: 1.6 mm isotropic (85 slices)\n",
    "- **FOV**: 208 x 208 mm\n",
    "- **Matrix**: 130 x 130\n",
    "- **Multiband Factor**: 5\n",
    "- **Acceleration (iPAT)**: 2\n",
    "- **Echo Spacing**: 0.64 ms\n",
    "- **Phase Encoding**: Two runs with AP and two with PA to balance susceptibility artifacts\n",
    "\n",
    "### Stimuli and Sessions\n",
    "\n",
    "- Participants watched short film and Hollywood movie clips compiled into four `.mp4` files, each ~15 minutes long.\n",
    "- Scans were collected in:\n",
    "  - **Session 1**: MOVIE1 (AP), MOVIE2 (PA)\n",
    "  - **Session 4**: MOVIE3 (PA), MOVIE4 (AP)\n",
    "- Two stimulus versions were used depending on acquisition date:\n",
    "  - `Pre_20140821_version`\n",
    "  - `Post_20140821_version` (aka \"v2\")\n",
    "\n",
    "### Movie Scan Summary (v2)\n",
    "| Scan Name           | Phase Encoding | Frames | Duration |\n",
    "|---------------------|----------------|--------|----------|\n",
    "| 7T_MOVIE1_CC1_v2    | AP             | 921    | 15:21    |\n",
    "| 7T_MOVIE2_HO1_v2    | PA             | 918    | 15:18    |\n",
    "| 7T_MOVIE3_CC2_v2    | PA             | 915    | 15:15    |\n",
    "| 7T_MOVIE4_HO2_v2    | AP             | 901    | 15:01    |\n",
    "\n",
    "### Session Structure\n",
    "\n",
    "- **Session 1**: Resting-state (REST1) + MOVIE1 + MOVIE2\n",
    "- **Session 4**: Resting-state (REST4) + MOVIE3 + MOVIE4\n",
    "- A **Vitamin E capsule** was taped to the subject’s right temple during all scans to indicate right-left orientation.\n",
    "- Eye-tracking data is also available in the unprocessed data package.\n",
    "\n",
    "### Additional Information\n",
    "\n",
    "- All scans used **AutoAlign** for FOV positioning.\n",
    "- Complete imaging protocols and session summaries are available via https://www.humanconnectome.org/hcp-protocols-ya-7t-imaging and https://www.humanconnectome.org/storage/app/media/documentation/s1200/HCP_S1200_Release_Reference_Manual.pdf\n"
   ]
  },
  {
   "cell_type": "markdown",
   "id": "f8f2608b-4f1b-4729-aa02-5ffda607602d",
   "metadata": {},
   "source": [
    "## Data Preprocessing: Parcellation and CSV Conversion\n",
    "\n", 
    "To reduce dimensionality and extract meaningful features from the high-resolution HCP movie-watching fMRI data, we apply a **parcellation-based preprocessing pipeline**. The goal is to summarize fMRI time series within brain regions.\n",
    "### 1. Input Data\n",
    "The input is a CIFTI dense time series file (.dtseries.nii) from the HCP 7T movie-watching dataset. These files contain brain activity across the cortical surface and subcortex.\n",
    "\n",
    "## 2. Parcellation using Glasser Atlas\n",
    "\n",
    "We use the **Glasser et al. (2016) HCP-MMP1.0 atlas**, which defines 360 cortical areas (180 per hemisphere), to parcellate the CIFTI time series.\n",
    "<dlabel_file>: the Glasser parcellation file (.dlabel.nii)\n",
    "\n",
    "## 3. Converting to CSV\n",
    "We convert .ptseries.nii to CSV format using wb_command -cifti-convert -to-text. -col-delim \",\": ensures columns are separated by commas (CSV format). Output is named .csv.\n",
    "\n",
    "\n"
   ]
  },
  {
   "cell_type": "code",
   "execution_count": null,
   "id": "ff031ae3-89b2-45c1-9046-4393efea21eb",
   "metadata": {},
   "outputs": [],
   "source": [
    "%%bash\n",
    "#!/bin/bash\n",
    "\n",
    "# Paths\n",
    "DT_SERIES=\"path to file\"\n",
    "TXT_OUT=\"path to file\"\n",
    "CSV_OUT=\"path to file\"\n",
    "Parcellated_DT_SERIES=\"path to file\"\n",
    "LABEL_FILE=\"path to file\"\n",
    "\n",
    "echo \"Running wb_command -cifti-parcellate...\"\n",
    " wb_command -cifti-parcellate \\\n",
    "\"$DT_SERIES\" \\\n",
    "\"$LABEL_FILE\" \\\n",
    "COLUMN \\\n",
    "\"$Parcellated_DT_SERIES\" \\\n",
    "-method MEAN\n",
    "\n",
    "echo \"Converting parcellated Cifti to CSV...\"\n",
    "wb_command -cifti-convert -to-text \\\n",
    "\"$Parcellated_DT_SERIES\" \\\n",
    "\"$CSV_OUT.csv\" \\\n",
    "-col-delim \",\"\n",
    "\n",
    "\n",
    "\n",
    "echo \"All steps complete.\""
   ]
  },
  {
   "cell_type": "markdown",
   "id": "a819dccd-7f79-4992-80a7-1381ab4d907f",
   "metadata": {},
   "source": []
  }
 ],
 "metadata": {
  "kernelspec": {
   "display_name": "Python 3 (ipykernel)",
   "language": "python",
   "name": "python3"
  },
  "language_info": {
   "codemirror_mode": {
    "name": "ipython",
    "version": 3
   },
   "file_extension": ".py",
   "mimetype": "text/x-python",
   "name": "python",
   "nbconvert_exporter": "python",
   "pygments_lexer": "ipython3",
   "version": "3.13.3"
  }
 },
 "nbformat": 4,
 "nbformat_minor": 5
}
